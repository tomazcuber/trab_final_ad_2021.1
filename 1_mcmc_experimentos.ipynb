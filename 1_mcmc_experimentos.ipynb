{
 "cells": [
  {
   "cell_type": "code",
   "execution_count": 1,
   "metadata": {},
   "outputs": [],
   "source": [
    "from utils.mcmc import \\\n",
    "    gerar_grafo_inicial, \\\n",
    "    propoe_novo_grafo, \\\n",
    "    metrica_eficiencia, \\\n",
    "    criador_grafo_mcmc\n",
    "\n",
    "import seaborn as sns\n",
    "import matplotlib.pyplot as plt\n",
    "import numpy as np"
   ]
  },
  {
   "cell_type": "code",
   "execution_count": 2,
   "metadata": {},
   "outputs": [],
   "source": [
    "entradas = [\n",
    "    (16,20),\n",
    "    (20,25),\n",
    "    (28,31),\n",
    "    (29,30),\n",
    "    (32,50),\n",
    "    (32,60)\n",
    "]"
   ]
  },
  {
   "cell_type": "code",
   "execution_count": 3,
   "metadata": {},
   "outputs": [],
   "source": [
    "def acha_melhor_aleatorio(n_vertices, n_arestas, iteracoes):\n",
    "    evolucao = list()\n",
    "    evolucao_melhor = list()\n",
    "\n",
    "    atual = gerar_grafo_inicial(n_vertices,n_arestas)\n",
    "    melhor = gerar_grafo_inicial(n_vertices,n_arestas)\n",
    "    for i in range(iteracoes-1):\n",
    "        novo = propoe_novo_grafo(atual)\n",
    "        evolucao.append(metrica_eficiencia(novo))\n",
    "\n",
    "        if metrica_eficiencia(novo) > metrica_eficiencia(melhor):\n",
    "            melhor = novo\n",
    "        \n",
    "        if metrica_eficiencia(novo) > metrica_eficiencia(atual):\n",
    "            atual = novo\n",
    "            \n",
    "        evolucao_melhor.append(metrica_eficiencia(melhor))\n",
    "    return melhor, evolucao, evolucao_melhor"
   ]
  },
  {
   "cell_type": "code",
   "execution_count": 4,
   "metadata": {},
   "outputs": [],
   "source": [
    "eficiencia_aleatorio = list()\n",
    "eficiencia_mcmc = list()\n",
    "\n",
    "for i in range(100):\n",
    "    melhor, evo, evo_melhor = acha_melhor_aleatorio(20, 25, 100)\n",
    "    eficiencia_aleatorio.append( evo_melhor[-1] )\n",
    "\n",
    "    ultimo, melhor, metricas, metricas_melhor = criador_grafo_mcmc(20, 25, 100)\n",
    "    eficiencia_mcmc.append( metrica_eficiencia(melhor) )"
   ]
  },
  {
   "cell_type": "code",
   "execution_count": 5,
   "metadata": {},
   "outputs": [
    {
     "data": {
      "text/plain": [
       "<matplotlib.legend.Legend at 0x233c2510fa0>"
      ]
     },
     "execution_count": 5,
     "metadata": {},
     "output_type": "execute_result"
    },
    {
     "data": {
      "image/png": "[encoded data removed]",
      "text/plain": [
       "<Figure size 432x288 with 1 Axes>"
      ]
     },
     "metadata": {
      "needs_background": "light"
     },
     "output_type": "display_data"
    }
   ],
   "source": [
    "sns.histplot(eficiencia_mcmc, color='green', binwidth=0.000005)\n",
    "sns.histplot(eficiencia_aleatorio, color='red', binwidth=0.000005)\n",
    "\n",
    "plt.legend(labels=['mcmc','baseline'])"
   ]
  },
  {
   "cell_type": "code",
   "execution_count": 6,
   "metadata": {},
   "outputs": [],
   "source": [
    "from datetime import datetime\n",
    "\n",
    "def compara_baseline(v, a, i=1000):\n",
    "    ultimo, melhor, metricas, metricas_melhor = criador_grafo_mcmc(v, a, i)\n",
    "\n",
    "    plt.figure(figsize = (10,2))\n",
    "    sns.lineplot(\n",
    "        x=list(range(len(metricas_melhor))),\n",
    "        y=np.array(metricas_melhor)[:,1],\n",
    "        color='green'\n",
    "    )\n",
    "\n",
    "    melhor, metricas, metricas_melhor = acha_melhor_aleatorio(v, a, i)\n",
    "\n",
    "    sns.lineplot(\n",
    "        x=list(range(len(metricas_melhor))),\n",
    "        y=np.array(metricas_melhor),\n",
    "        color='red'\n",
    "    )\n",
    "    plt.legend(labels=['mcmc','baseline'])\n",
    "    plt.savefig('imgs/mcmc_baseline_compara_melhor_{}.png'.format((v,a)))\n"
   ]
  },
  {
   "cell_type": "code",
   "execution_count": 7,
   "metadata": {},
   "outputs": [
    {
     "data": {
      "image/png": "[encoded data removed]",
      "text/plain": [
       "<Figure size 720x144 with 1 Axes>"
      ]
     },
     "metadata": {
      "needs_background": "light"
     },
     "output_type": "display_data"
    }
   ],
   "source": [
    "compara_baseline(16,20)"
   ]
  }
 ],
 "metadata": {
  "interpreter": {
   "hash": "2db524e06e9f5f4ffedc911c917cb75e12dbc923643829bf417064a77eb14d37"
  },
  "kernelspec": {
   "display_name": "Python 3.8.5 64-bit",
   "name": "python3"
  },
  "language_info": {
   "codemirror_mode": {
    "name": "ipython",
    "version": 3
   },
   "file_extension": ".py",
   "mimetype": "text/x-python",
   "name": "python",
   "nbconvert_exporter": "python",
   "pygments_lexer": "ipython3",
   "version": "3.8.5"
  },
  "orig_nbformat": 4
 },
 "nbformat": 4,
 "nbformat_minor": 2
}
